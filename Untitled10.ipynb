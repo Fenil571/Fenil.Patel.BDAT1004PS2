{
  "nbformat": 4,
  "nbformat_minor": 0,
  "metadata": {
    "colab": {
      "provenance": []
    },
    "kernelspec": {
      "name": "python3",
      "display_name": "Python 3"
    },
    "language_info": {
      "name": "python"
    }
  },
  "cells": [
    {
      "cell_type": "markdown",
      "source": [
        "#**FENIL PATEL - 200577030**"
      ],
      "metadata": {
        "id": "jrTyhjeAKmwe"
      }
    },
    {
      "cell_type": "markdown",
      "source": [
        "###Question 1"
      ],
      "metadata": {
        "id": "DcFw9reoHrYt"
      }
    },
    {
      "cell_type": "markdown",
      "source": [
        "Explanation:\n",
        "\n",
        "What I understood:\n",
        "\n",
        " This question presents a small code snippet and asks for the value of a after calling a function multiple times. It involves understanding global variables and function calls.\n",
        "\n",
        "What I did:\n",
        "\n",
        "The variable a starts at 0. Each call to the b() function modifies a by calling c(a), which adds 2 to a. I called b() three times, which increments a by 6. So, a becomes 6."
      ],
      "metadata": {
        "id": "B-cPKrxBJKV2"
      }
    },
    {
      "cell_type": "code",
      "execution_count": 9,
      "metadata": {
        "colab": {
          "base_uri": "https://localhost:8080/"
        },
        "id": "sWRxM4cHHb69",
        "outputId": "793b53d8-9df1-4e55-b277-77b74f670c59"
      },
      "outputs": [
        {
          "output_type": "stream",
          "name": "stdout",
          "text": [
            "6\n"
          ]
        }
      ],
      "source": [
        "# Initial value  a\n",
        "a = 0\n",
        "\n",
        "def b():\n",
        "    global a\n",
        "    a = c(a)\n",
        "\n",
        "def c(a):\n",
        "    return a + 2\n",
        "\n",
        "# Calling function b() three times\n",
        "b()\n",
        "b()\n",
        "b()\n",
        "\n",
        "# Final value of a\n",
        "print(a)\n"
      ]
    },
    {
      "cell_type": "markdown",
      "source": [
        "###Question 2"
      ],
      "metadata": {
        "id": "30u0AQXXH4f8"
      }
    },
    {
      "cell_type": "markdown",
      "source": [
        "Explanation:\n",
        "\n",
        "What I understood:\n",
        "\n",
        "The fileLength() function reads a file and returns its length. The question asks to handle errors gracefully if the file does not exist.\n",
        "\n",
        "What I did:\n",
        "\n",
        "I modified the original function to include error handling using try and except. If the file is found, it prints its length; otherwise, it displays an error message indicating that the file could not be found."
      ],
      "metadata": {
        "id": "Okyufr3VJVmG"
      }
    },
    {
      "cell_type": "code",
      "source": [
        "def file_length(file_name):\n",
        "    try:\n",
        "        # open and read the file\n",
        "        file = open(file_name)\n",
        "        contents = file.read()\n",
        "        file.close()\n",
        "        print(len(contents))\n",
        "    except FileNotFoundError:\n",
        "        # file not found error\n",
        "        print(f\"File {file_name} not found.\")\n",
        "\n",
        "# Test the function with Filelength.txt\n",
        "file_length('Filelength.txt')\n",
        "file_length('nonexistent.txt')\n"
      ],
      "metadata": {
        "colab": {
          "base_uri": "https://localhost:8080/"
        },
        "id": "JIW2cxuJHc6t",
        "outputId": "4424edf4-8fd3-4497-d207-f0597ca01431"
      },
      "execution_count": 10,
      "outputs": [
        {
          "output_type": "stream",
          "name": "stdout",
          "text": [
            "File Filelength.txt not found.\n",
            "File nonexistent.txt not found.\n"
          ]
        }
      ]
    },
    {
      "cell_type": "markdown",
      "source": [
        "###Question 3"
      ],
      "metadata": {
        "id": "eFY_FMSqIAtF"
      }
    },
    {
      "cell_type": "markdown",
      "source": [
        "Explanation:\n",
        "\n",
        "What I understood:\n",
        "\n",
        " The question requires creating a Marsupial class to store items in a \"pouch.\" It also asks to create a subclass called Kangaroo that tracks its position and can \"jump\" to a new location.\n",
        "\n",
        "What I did:\n",
        "\n",
        "I defined the Marsupial class to manage a list called pouch. Then, I created the Kangaroo class, extending Marsupial to add x and y coordinates. The jump() method updates the coordinates, and the __str__() method prints the current position."
      ],
      "metadata": {
        "id": "Osh2AJ46JbN4"
      }
    },
    {
      "cell_type": "code",
      "source": [
        "class Marsupial:\n",
        "    def __init__(self):\n",
        "        self.pouch = []\n",
        "\n",
        "    def put_in_pouch(self, item):\n",
        "        self.pouch.append(item)\n",
        "\n",
        "    def pouch_contents(self):\n",
        "        # Return the contents of the pouch\n",
        "        return self.pouch\n",
        "\n",
        "# Testing the Marsupial class\n",
        "m = Marsupial()\n",
        "m.put_in_pouch('doll')\n",
        "m.put_in_pouch('firetruck')\n",
        "m.put_in_pouch('kitten')\n",
        "print(m.pouch_contents())\n"
      ],
      "metadata": {
        "colab": {
          "base_uri": "https://localhost:8080/"
        },
        "id": "k3ueXKBvH-FM",
        "outputId": "878c1896-49e3-4837-e85e-6bc860499030"
      },
      "execution_count": 11,
      "outputs": [
        {
          "output_type": "stream",
          "name": "stdout",
          "text": [
            "['doll', 'firetruck', 'kitten']\n"
          ]
        }
      ]
    },
    {
      "cell_type": "markdown",
      "source": [
        "Kangaroo Subclass Implementation:"
      ],
      "metadata": {
        "id": "cZey9G4WIHzn"
      }
    },
    {
      "cell_type": "code",
      "source": [
        "class Kangaroo(Marsupial):\n",
        "    def __init__(self, x, y):\n",
        "        super().__init__()\n",
        "        self.x = x\n",
        "        self.y = y\n",
        "\n",
        "    def jump(self, dx, dy):\n",
        "        # Update coordinates based on dx and dy\n",
        "        self.x += dx\n",
        "        self.y += dy\n",
        "\n",
        "    def __str__(self):\n",
        "        return f\"I am a Kangaroo located at coordinates ({self.x},{self.y})\"\n",
        "\n",
        "# Testing the Kangaroo class\n",
        "k = Kangaroo(0, 0)\n",
        "print(k)\n",
        "k.put_in_pouch('doll')\n",
        "k.put_in_pouch('firetruck')\n",
        "k.put_in_pouch('kitten')\n",
        "print(k.pouch_contents())\n",
        "k.jump(1, 0)\n",
        "k.jump(1, 0)\n",
        "k.jump(1, 0)\n",
        "print(k)\n"
      ],
      "metadata": {
        "colab": {
          "base_uri": "https://localhost:8080/"
        },
        "id": "b90KwOgHIEnx",
        "outputId": "a83c01a7-db85-44ec-fdc7-bd8ddc74d437"
      },
      "execution_count": 12,
      "outputs": [
        {
          "output_type": "stream",
          "name": "stdout",
          "text": [
            "I am a Kangaroo located at coordinates (0,0)\n",
            "['doll', 'firetruck', 'kitten']\n",
            "I am a Kangaroo located at coordinates (3,0)\n"
          ]
        }
      ]
    },
    {
      "cell_type": "markdown",
      "source": [
        "###Question 4"
      ],
      "metadata": {
        "id": "dzLIgz6QIN10"
      }
    },
    {
      "cell_type": "markdown",
      "source": [
        "Explanation:\n",
        "\n",
        "What I understood:\n",
        "\n",
        " This question is about the Collatz sequence, which transforms numbers using specific rules until reaching 1. The task is to implement it recursively.\n",
        "\n",
        "What I did:\n",
        "\n",
        "I wrote a recursive function collatz() that prints the current value of x and applies the Collatz rule. If x is even, it divides by 2; if odd, it multiplies by 3 and adds 1. It stops when x becomes 1."
      ],
      "metadata": {
        "id": "Zb5ku2BiJknE"
      }
    },
    {
      "cell_type": "code",
      "source": [
        "def collatz(x):\n",
        "    print(x)\n",
        "    if x == 1:\n",
        "        return\n",
        "    elif x % 2 == 0:\n",
        "        collatz(x // 2)\n",
        "    else:\n",
        "        collatz(3 * x + 1)\n",
        "\n",
        "# Test the Collatz function\n",
        "collatz(10)\n"
      ],
      "metadata": {
        "colab": {
          "base_uri": "https://localhost:8080/"
        },
        "id": "v46xXZFWIJ7z",
        "outputId": "33a26631-49e8-4a65-ee1e-e0b8d32e0502"
      },
      "execution_count": 13,
      "outputs": [
        {
          "output_type": "stream",
          "name": "stdout",
          "text": [
            "10\n",
            "5\n",
            "16\n",
            "8\n",
            "4\n",
            "2\n",
            "1\n"
          ]
        }
      ]
    },
    {
      "cell_type": "markdown",
      "source": [
        "###Question 5"
      ],
      "metadata": {
        "id": "jwqz6BIxIUkz"
      }
    },
    {
      "cell_type": "markdown",
      "source": [
        "Explanation:\n",
        "\n",
        "What I understood:\n",
        "\n",
        " This question is about converting a non-negative integer into its binary representation using recursion.\n",
        "\n",
        "What I did:\n",
        "\n",
        "I created a recursive function called binary() that prints the binary equivalent of the input integer. It divides the number by 2 and prints the remainder, effectively converting it to binary."
      ],
      "metadata": {
        "id": "n_kGrqqsJoXK"
      }
    },
    {
      "cell_type": "code",
      "source": [
        "def binary(n):\n",
        "    # Base case\n",
        "    if n < 2:\n",
        "        print(n, end='')\n",
        "    else:\n",
        "        # Recursive call to print binary of n // 2\n",
        "        binary(n // 2)\n",
        "        # Print n % 2 after the recursive call\n",
        "        print(n % 2, end='')\n",
        "\n",
        "# Test the binary function\n",
        "binary(9)\n"
      ],
      "metadata": {
        "colab": {
          "base_uri": "https://localhost:8080/"
        },
        "id": "VAela5qlISfh",
        "outputId": "c243af01-7f85-4ca3-de3b-3cf8e1c57790"
      },
      "execution_count": 14,
      "outputs": [
        {
          "output_type": "stream",
          "name": "stdout",
          "text": [
            "1001"
          ]
        }
      ]
    },
    {
      "cell_type": "markdown",
      "source": [
        "###Question 6"
      ],
      "metadata": {
        "id": "JIcfCbiaIZkK"
      }
    },
    {
      "cell_type": "markdown",
      "source": [
        "Explanation:\n",
        "\n",
        "What I understood:\n",
        "\n",
        " The task is to create a class that extracts headings from an HTML document and prints them with proper indentation based on heading levels.\n",
        "\n",
        "What I did:\n",
        "\n",
        " I defined a class HeadingParser that inherits from Python's HTMLParser. It handles heading tags (h1, h2, etc.) and prints their content with the appropriate indentation level. I used the provided HTML content from w3c.txt to test it."
      ],
      "metadata": {
        "id": "jaKKlskMJutU"
      }
    },
    {
      "cell_type": "code",
      "source": [
        "from html.parser import HTMLParser\n",
        "\n",
        "class HeadingParser(HTMLParser):\n",
        "    def __init__(self):\n",
        "        super().__init__()\n",
        "        self.indentation = 0\n",
        "\n",
        "    def handle_starttag(self, tag, attrs):\n",
        "        if tag.startswith('h') and len(tag) == 2 and tag[1].isdigit():\n",
        "            self.indentation = int(tag[1]) - 1\n",
        "\n",
        "    def handle_data(self, data):\n",
        "        if data.strip():\n",
        "            print(' ' * self.indentation + data)\n",
        "\n",
        "# Read the contents of w3c.txt as HTML\n",
        "with open('w3c.html', 'r') as infile:\n",
        "    content = infile.read()\n",
        "\n",
        "hp = HeadingParser()\n",
        "hp.feed(content)\n"
      ],
      "metadata": {
        "colab": {
          "base_uri": "https://localhost:8080/"
        },
        "id": "ErcbaLpZIXNW",
        "outputId": "9be5d8f5-e330-49c1-efaf-b214dd76bac5"
      },
      "execution_count": 15,
      "outputs": [
        {
          "output_type": "stream",
          "name": "stdout",
          "text": [
            "Change_me\n",
            "W3C Mission\n",
            " Principles\n"
          ]
        }
      ]
    },
    {
      "cell_type": "markdown",
      "source": [
        "# --- END ---"
      ],
      "metadata": {
        "id": "GO2i_ZvoK4sP"
      }
    }
  ]
}